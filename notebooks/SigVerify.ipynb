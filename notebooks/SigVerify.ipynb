{
 "cells": [
  {
   "cell_type": "code",
   "execution_count": 1,
   "metadata": {},
   "outputs": [],
   "source": [
    "# pip3 install pyopenssl\n",
    "from OpenSSL import crypto\n",
    "# pip3 install cryptography\n",
    "from cryptography.hazmat.primitives.asymmetric import ec\n",
    "from cryptography.hazmat.primitives.asymmetric import utils\n",
    "from cryptography.hazmat.primitives import hashes\n",
    "# pip3 install ecdsa\n",
    "from ecdsa import VerifyingKey, NIST384p"
   ]
  },
  {
   "cell_type": "markdown",
   "metadata": {},
   "source": [
    "# Certificate"
   ]
  },
  {
   "cell_type": "code",
   "execution_count": 2,
   "metadata": {},
   "outputs": [],
   "source": [
    "cert = crypto.load_certificate(crypto.FILETYPE_PEM, open('./remco.cert','r').read())"
   ]
  },
  {
   "cell_type": "code",
   "execution_count": 3,
   "metadata": {},
   "outputs": [
    {
     "data": {
      "text/plain": [
       "<X509Name object '/C=EE/O=AS Sertifitseerimiskeskus/2.5.4.97=NTREE-10747013/CN=ESTEID-SK 2015'>"
      ]
     },
     "execution_count": 3,
     "metadata": {},
     "output_type": "execute_result"
    }
   ],
   "source": [
    "cert.get_issuer()"
   ]
  },
  {
   "cell_type": "code",
   "execution_count": 4,
   "metadata": {},
   "outputs": [
    {
     "data": {
      "text/plain": [
       "<X509Name object '/C=EE/O=ESTEID (DIGI-ID E-RESIDENT)/OU=digital signature/CN=BLOEMEN,REMCO,38612160114/SN=BLOEMEN/GN=REMCO/serialNumber=38612160114'>"
      ]
     },
     "execution_count": 4,
     "metadata": {},
     "output_type": "execute_result"
    }
   ],
   "source": [
    "cert.get_subject()"
   ]
  },
  {
   "cell_type": "code",
   "execution_count": 5,
   "metadata": {},
   "outputs": [
    {
     "data": {
      "text/plain": [
       "'38612160114'"
      ]
     },
     "execution_count": 5,
     "metadata": {},
     "output_type": "execute_result"
    }
   ],
   "source": [
    "cert.get_subject().serialNumber"
   ]
  },
  {
   "cell_type": "code",
   "execution_count": 6,
   "metadata": {},
   "outputs": [
    {
     "data": {
      "text/plain": [
       "<EllipticCurvePublicNumbers(curve=secp384r1, x=30827567487393551525402089664526449770646356836908584670673246523285555687049858098829191759343589369441587654976562, y=2009068527738404759430491179267117270890161016114510417259692707866849715139082362044671225604392405754431155211363>"
      ]
     },
     "execution_count": 6,
     "metadata": {},
     "output_type": "execute_result"
    }
   ],
   "source": [
    "cert.get_pubkey().to_cryptography_key().public_numbers()"
   ]
  },
  {
   "cell_type": "code",
   "execution_count": 7,
   "metadata": {},
   "outputs": [],
   "source": [
    "x = cert.get_pubkey().to_cryptography_key().public_numbers().x\n",
    "y = cert.get_pubkey().to_cryptography_key().public_numbers().y"
   ]
  },
  {
   "cell_type": "code",
   "execution_count": 8,
   "metadata": {},
   "outputs": [
    {
     "data": {
      "text/plain": [
       "(30827567487393551525402089664526449770646356836908584670673246523285555687049858098829191759343589369441587654976562,\n",
       " 2009068527738404759430491179267117270890161016114510417259692707866849715139082362044671225604392405754431155211363)"
      ]
     },
     "execution_count": 8,
     "metadata": {},
     "output_type": "execute_result"
    }
   ],
   "source": [
    "(x, y)"
   ]
  },
  {
   "cell_type": "code",
   "execution_count": 33,
   "metadata": {},
   "outputs": [],
   "source": [
    "# Signature"
   ]
  },
  {
   "cell_type": "code",
   "execution_count": 64,
   "metadata": {},
   "outputs": [],
   "source": [
    "sighex = 'EEB9131427FD0F0B7195733C60DD8A99822E6250B731E570244AFE1053226CC83BCFB2A4280B6F2A81F2A723F62A457EEE281A7E5D0EA6A14E00C1759F79FDDBD91F3994CAE97F886B1F2615C6A51839F13E1B21BECD3D21ACCACCACEED2725F'\n",
    "sighex = '718709E3E35F31C53BAD07BE8D163139DC7597F6525328BB4DE291381C17A19F09DAE38B3512B5E59AC51EA7496BB35CF816F038A6F2D22EA4C454B267087BBE4794D01303106380FB30EC8AA992BEE001ADB1EEEA84DB054902FA2A0A40D556'"
   ]
  },
  {
   "cell_type": "code",
   "execution_count": 65,
   "metadata": {},
   "outputs": [],
   "source": [
    "sig = bytes.fromhex(sighex)"
   ]
  },
  {
   "cell_type": "code",
   "execution_count": 66,
   "metadata": {},
   "outputs": [],
   "source": [
    "r = int.from_bytes(sig[:48], byteorder='big')\n",
    "s = int.from_bytes(sig[48:], byteorder='big')"
   ]
  },
  {
   "cell_type": "code",
   "execution_count": 67,
   "metadata": {},
   "outputs": [
    {
     "data": {
      "text/plain": [
       "(17473480656815981152740097078876105917023273930060130803529460264986141113034508276885111870535370954576384892842844,\n",
       " 38184484664529642772128413383186683845875666034862943131998194995474306294259536911968257984977187051134885864461654)"
      ]
     },
     "execution_count": 67,
     "metadata": {},
     "output_type": "execute_result"
    }
   ],
   "source": [
    "(r,s)"
   ]
  },
  {
   "cell_type": "code",
   "execution_count": 68,
   "metadata": {},
   "outputs": [],
   "source": [
    "sigasn1 = utils.encode_dss_signature(r, s)"
   ]
  },
  {
   "cell_type": "code",
   "execution_count": 69,
   "metadata": {},
   "outputs": [
    {
     "data": {
      "text/plain": [
       "False"
      ]
     },
     "execution_count": 69,
     "metadata": {},
     "output_type": "execute_result"
    }
   ],
   "source": [
    "sigasn1[5:53] == sig[:48]"
   ]
  },
  {
   "cell_type": "code",
   "execution_count": 70,
   "metadata": {},
   "outputs": [
    {
     "data": {
      "text/plain": [
       "False"
      ]
     },
     "execution_count": 70,
     "metadata": {},
     "output_type": "execute_result"
    }
   ],
   "source": [
    "sigasn1[56:] == sig[48:]"
   ]
  },
  {
   "cell_type": "markdown",
   "metadata": {},
   "source": [
    "# Digest"
   ]
  },
  {
   "cell_type": "code",
   "execution_count": 71,
   "metadata": {},
   "outputs": [],
   "source": [
    "digest = bytes.fromhex('413140d54372f9baf481d4c54e2d5c7bcf28fd6087000280e07976121dd54af2')\n",
    "digest = bytes.fromhex('413140d54372f9baf481d4c54e2d5c7bcf28fd6087000280e07976121dd54af2')"
   ]
  },
  {
   "cell_type": "code",
   "execution_count": 72,
   "metadata": {},
   "outputs": [],
   "source": [
    "m = int.from_bytes(digest, 'big')"
   ]
  },
  {
   "cell_type": "code",
   "execution_count": 73,
   "metadata": {},
   "outputs": [
    {
     "data": {
      "text/plain": [
       "29487358125424512498370551173628780853002944075174315746794686527735994862322"
      ]
     },
     "execution_count": 73,
     "metadata": {},
     "output_type": "execute_result"
    }
   ],
   "source": [
    "m"
   ]
  },
  {
   "cell_type": "markdown",
   "metadata": {},
   "source": [
    "# Verify"
   ]
  },
  {
   "cell_type": "code",
   "execution_count": 74,
   "metadata": {},
   "outputs": [],
   "source": [
    "pubstr = x.to_bytes(48, 'big') + y.to_bytes(48, 'big')"
   ]
  },
  {
   "cell_type": "code",
   "execution_count": 75,
   "metadata": {},
   "outputs": [],
   "source": [
    "vk = VerifyingKey.from_string(pubstr, curve=NIST384p)"
   ]
  },
  {
   "cell_type": "code",
   "execution_count": 76,
   "metadata": {},
   "outputs": [
    {
     "name": "stdout",
     "output_type": "stream",
     "text": [
      "n = 39402006196394479212279040100143613805079739270465446667946905279627659399113263569398956308152294913554433653942643\n",
      "r = 17473480656815981152740097078876105917023273930060130803529460264986141113034508276885111870535370954576384892842844\n",
      "s = 38184484664529642772128413383186683845875666034862943131998194995474306294259536911968257984977187051134885864461654\n",
      "c = 3541314357467526461452356304083988878463148627835193176736748808265267323758954013684032074391816605422091876271010\n",
      "u1 = 13879523668818439292034433186563481041167718901243615605065388260388668679425014873152281386450103374696784733850496\n",
      "u2 = 9355200908508564976147348166202229094565662896863840875792621068067963409327530659946354889260003623740401341026533\n",
      "t1 = (38149186185700182617780099430554230097712101391459644469720535622639652140390991948551177287953772321583945706672498, 23137478921889381416648470401927784799485323303710987660270500123621187949967175163559035406198438505245316545916782)\n",
      "t2 = (37351684137453313467466450070516170377362085255946714276654477738703778532051559771102548740350115191757389202459647, 28821156952244390124849721054089115715520170229500659700751938892400071686388574765563764186170414648635255400181492)\n",
      "xy = (17473480656815981152740097078876105917023273930060130803529460264986141113034508276885111870535370954576384892842844, 7891348484571200290814560179361672592890099422354019383696399061054814441255071624809674815572159352003399228641177)\n"
     ]
    },
    {
     "data": {
      "text/plain": [
       "True"
      ]
     },
     "execution_count": 76,
     "metadata": {},
     "output_type": "execute_result"
    }
   ],
   "source": [
    "vk.verify_digest(sig, digest)"
   ]
  },
  {
   "cell_type": "code",
   "execution_count": null,
   "metadata": {},
   "outputs": [],
   "source": []
  }
 ],
 "metadata": {
  "kernelspec": {
   "display_name": "Python 3",
   "language": "python",
   "name": "python3"
  },
  "language_info": {
   "codemirror_mode": {
    "name": "ipython",
    "version": 3
   },
   "file_extension": ".py",
   "mimetype": "text/x-python",
   "name": "python",
   "nbconvert_exporter": "python",
   "pygments_lexer": "ipython3",
   "version": "3.7.0"
  }
 },
 "nbformat": 4,
 "nbformat_minor": 2
}
